{
  "cells": [
    {
      "cell_type": "code",
      "source": [
        "from google.colab import drive\n",
        "drive.mount('/content/drive')"
      ],
      "metadata": {
        "colab": {
          "base_uri": "https://localhost:8080/"
        },
        "id": "aJsl3ytSKZ0h",
        "outputId": "0d53c949-df83-414f-ffab-130cc3f7ccbc"
      },
      "execution_count": null,
      "outputs": [
        {
          "output_type": "stream",
          "name": "stdout",
          "text": [
            "Mounted at /content/drive\n"
          ]
        }
      ]
    },
    {
      "cell_type": "markdown",
      "source": [
        "**Étape 1: Chargement des bibliothèques nécessaires**\n",
        "\n",
        "\n",
        "---\n",
        "\n",
        "\n",
        "Description: Dans cette étape, nous allons importer les bibliothèques Python nécessaires pour manipuler et analyser les données."
      ],
      "metadata": {
        "id": "tDXnKJNZwvCq"
      }
    },
    {
      "cell_type": "code",
      "execution_count": null,
      "metadata": {
        "id": "4964Kw2CgIbs"
      },
      "outputs": [],
      "source": [
        "# Importation des bibliothèques nécessaires\n",
        "import json\n",
        "import pandas as pd\n",
        "import numpy as np\n",
        "from sklearn.model_selection import train_test_split\n",
        "from sklearn.feature_extraction.text import TfidfVectorizer\n",
        "from sklearn.linear_model import LogisticRegression\n",
        "from sklearn.metrics import classification_report, accuracy_score\n",
        "from matplotlib import pyplot as plt\n",
        "from IPython.display import display\n"
      ]
    },
    {
      "cell_type": "markdown",
      "source": [
        "**Étape 2: Chargement et exploration des données.**\n",
        "\n",
        "\n",
        "---\n",
        "Description: Nous allons charger le fichier JSON contenant les données CVE, extraire les informations pertinentes et les stocker dans un DataFrame pandas pour une analyse plus approfondie."
      ],
      "metadata": {
        "id": "YOxxl5o4wxiw"
      }
    },
    {
      "cell_type": "code",
      "source": [
        "# Chargement du fichier JSON depuis Google Drive\n",
        "file_path = '/content/drive/MyDrive/nvdcve-1.1-2003.json'\n",
        "with open(file_path, 'r') as file:\n",
        "    data = json.load(file)\n",
        "\n",
        "# Extraction des informations pertinentes\n",
        "cve_items = data['CVE_Items']\n",
        "cve_data = []\n",
        "for item in cve_items:\n",
        "    cve_id = item['cve']['CVE_data_meta']['ID']\n",
        "    description = item['cve']['description']['description_data'][0]['value']\n",
        "    published_date = item['publishedDate']\n",
        "    impact_score = item.get('impact', {}).get('baseMetricV2', {}).get('impactScore', None)\n",
        "    severity = item.get('impact', {}).get('baseMetricV2', {}).get('severity', None)\n",
        "    cve_data.append([cve_id, description, published_date, impact_score, severity])\n",
        "\n",
        "# Création d'un DataFrame\n",
        "df = pd.DataFrame(cve_data, columns=['CVE_ID', 'Description', 'Published_Date', 'Impact_Score', 'Severity'])\n",
        "\n",
        "# Affichage de l'ensemble du DataFrame\n",
        "display(df)"
      ],
      "metadata": {
        "colab": {
          "base_uri": "https://localhost:8080/",
          "height": 424
        },
        "id": "M4OLqerwrXFI",
        "outputId": "f626ae8a-c45b-4e11-c508-f0ed2a09d136"
      },
      "execution_count": null,
      "outputs": [
        {
          "output_type": "display_data",
          "data": {
            "text/plain": [
              "             CVE_ID                                        Description  \\\n",
              "0     CVE-2003-0001  Multiple ethernet Network Interface Card (NIC)...   \n",
              "1     CVE-2003-0002  Cross-site scripting vulnerability (XSS) in Ma...   \n",
              "2     CVE-2003-0003  Buffer overflow in the RPC Locator service for...   \n",
              "3     CVE-2003-0004  Buffer overflow in the Windows Redirector func...   \n",
              "4     CVE-2003-0007  Microsoft Outlook 2002 does not properly handl...   \n",
              "...             ...                                                ...   \n",
              "1548  CVE-2003-1604  The redirect_target function in net/ipv4/netfi...   \n",
              "1549  CVE-2003-1605  curl 7.x before 7.10.7 sends CONNECT proxy cre...   \n",
              "1550  CVE-2003-5001  A vulnerability was found in ISS BlackICE PC P...   \n",
              "1551  CVE-2003-5002  A vulnerability was found in ISS BlackICE PC P...   \n",
              "1552  CVE-2003-5003  A vulnerability was found in ISS BlackICE PC P...   \n",
              "\n",
              "         Published_Date  Impact_Score Severity  \n",
              "0     2003-01-17T05:00Z           2.9   MEDIUM  \n",
              "1     2003-02-07T05:00Z           6.4   MEDIUM  \n",
              "2     2003-02-07T05:00Z           6.4     HIGH  \n",
              "3     2003-02-19T05:00Z          10.0     HIGH  \n",
              "4     2003-02-07T05:00Z           2.9   MEDIUM  \n",
              "...                 ...           ...      ...  \n",
              "1548  2016-05-02T10:59Z           6.9     HIGH  \n",
              "1549  2018-08-23T19:29Z           2.9   MEDIUM  \n",
              "1550  2022-03-28T21:15Z           6.4     HIGH  \n",
              "1551  2022-03-28T21:15Z           2.9   MEDIUM  \n",
              "1552  2022-03-28T21:15Z           2.9   MEDIUM  \n",
              "\n",
              "[1553 rows x 5 columns]"
            ],
            "text/html": [
              "\n",
              "  <div id=\"df-645afda0-7624-41d6-8f8e-784b54dd981b\" class=\"colab-df-container\">\n",
              "    <div>\n",
              "<style scoped>\n",
              "    .dataframe tbody tr th:only-of-type {\n",
              "        vertical-align: middle;\n",
              "    }\n",
              "\n",
              "    .dataframe tbody tr th {\n",
              "        vertical-align: top;\n",
              "    }\n",
              "\n",
              "    .dataframe thead th {\n",
              "        text-align: right;\n",
              "    }\n",
              "</style>\n",
              "<table border=\"1\" class=\"dataframe\">\n",
              "  <thead>\n",
              "    <tr style=\"text-align: right;\">\n",
              "      <th></th>\n",
              "      <th>CVE_ID</th>\n",
              "      <th>Description</th>\n",
              "      <th>Published_Date</th>\n",
              "      <th>Impact_Score</th>\n",
              "      <th>Severity</th>\n",
              "    </tr>\n",
              "  </thead>\n",
              "  <tbody>\n",
              "    <tr>\n",
              "      <th>0</th>\n",
              "      <td>CVE-2003-0001</td>\n",
              "      <td>Multiple ethernet Network Interface Card (NIC)...</td>\n",
              "      <td>2003-01-17T05:00Z</td>\n",
              "      <td>2.9</td>\n",
              "      <td>MEDIUM</td>\n",
              "    </tr>\n",
              "    <tr>\n",
              "      <th>1</th>\n",
              "      <td>CVE-2003-0002</td>\n",
              "      <td>Cross-site scripting vulnerability (XSS) in Ma...</td>\n",
              "      <td>2003-02-07T05:00Z</td>\n",
              "      <td>6.4</td>\n",
              "      <td>MEDIUM</td>\n",
              "    </tr>\n",
              "    <tr>\n",
              "      <th>2</th>\n",
              "      <td>CVE-2003-0003</td>\n",
              "      <td>Buffer overflow in the RPC Locator service for...</td>\n",
              "      <td>2003-02-07T05:00Z</td>\n",
              "      <td>6.4</td>\n",
              "      <td>HIGH</td>\n",
              "    </tr>\n",
              "    <tr>\n",
              "      <th>3</th>\n",
              "      <td>CVE-2003-0004</td>\n",
              "      <td>Buffer overflow in the Windows Redirector func...</td>\n",
              "      <td>2003-02-19T05:00Z</td>\n",
              "      <td>10.0</td>\n",
              "      <td>HIGH</td>\n",
              "    </tr>\n",
              "    <tr>\n",
              "      <th>4</th>\n",
              "      <td>CVE-2003-0007</td>\n",
              "      <td>Microsoft Outlook 2002 does not properly handl...</td>\n",
              "      <td>2003-02-07T05:00Z</td>\n",
              "      <td>2.9</td>\n",
              "      <td>MEDIUM</td>\n",
              "    </tr>\n",
              "    <tr>\n",
              "      <th>...</th>\n",
              "      <td>...</td>\n",
              "      <td>...</td>\n",
              "      <td>...</td>\n",
              "      <td>...</td>\n",
              "      <td>...</td>\n",
              "    </tr>\n",
              "    <tr>\n",
              "      <th>1548</th>\n",
              "      <td>CVE-2003-1604</td>\n",
              "      <td>The redirect_target function in net/ipv4/netfi...</td>\n",
              "      <td>2016-05-02T10:59Z</td>\n",
              "      <td>6.9</td>\n",
              "      <td>HIGH</td>\n",
              "    </tr>\n",
              "    <tr>\n",
              "      <th>1549</th>\n",
              "      <td>CVE-2003-1605</td>\n",
              "      <td>curl 7.x before 7.10.7 sends CONNECT proxy cre...</td>\n",
              "      <td>2018-08-23T19:29Z</td>\n",
              "      <td>2.9</td>\n",
              "      <td>MEDIUM</td>\n",
              "    </tr>\n",
              "    <tr>\n",
              "      <th>1550</th>\n",
              "      <td>CVE-2003-5001</td>\n",
              "      <td>A vulnerability was found in ISS BlackICE PC P...</td>\n",
              "      <td>2022-03-28T21:15Z</td>\n",
              "      <td>6.4</td>\n",
              "      <td>HIGH</td>\n",
              "    </tr>\n",
              "    <tr>\n",
              "      <th>1551</th>\n",
              "      <td>CVE-2003-5002</td>\n",
              "      <td>A vulnerability was found in ISS BlackICE PC P...</td>\n",
              "      <td>2022-03-28T21:15Z</td>\n",
              "      <td>2.9</td>\n",
              "      <td>MEDIUM</td>\n",
              "    </tr>\n",
              "    <tr>\n",
              "      <th>1552</th>\n",
              "      <td>CVE-2003-5003</td>\n",
              "      <td>A vulnerability was found in ISS BlackICE PC P...</td>\n",
              "      <td>2022-03-28T21:15Z</td>\n",
              "      <td>2.9</td>\n",
              "      <td>MEDIUM</td>\n",
              "    </tr>\n",
              "  </tbody>\n",
              "</table>\n",
              "<p>1553 rows × 5 columns</p>\n",
              "</div>\n",
              "    <div class=\"colab-df-buttons\">\n",
              "\n",
              "  <div class=\"colab-df-container\">\n",
              "    <button class=\"colab-df-convert\" onclick=\"convertToInteractive('df-645afda0-7624-41d6-8f8e-784b54dd981b')\"\n",
              "            title=\"Convert this dataframe to an interactive table.\"\n",
              "            style=\"display:none;\">\n",
              "\n",
              "  <svg xmlns=\"http://www.w3.org/2000/svg\" height=\"24px\" viewBox=\"0 -960 960 960\">\n",
              "    <path d=\"M120-120v-720h720v720H120Zm60-500h600v-160H180v160Zm220 220h160v-160H400v160Zm0 220h160v-160H400v160ZM180-400h160v-160H180v160Zm440 0h160v-160H620v160ZM180-180h160v-160H180v160Zm440 0h160v-160H620v160Z\"/>\n",
              "  </svg>\n",
              "    </button>\n",
              "\n",
              "  <style>\n",
              "    .colab-df-container {\n",
              "      display:flex;\n",
              "      gap: 12px;\n",
              "    }\n",
              "\n",
              "    .colab-df-convert {\n",
              "      background-color: #E8F0FE;\n",
              "      border: none;\n",
              "      border-radius: 50%;\n",
              "      cursor: pointer;\n",
              "      display: none;\n",
              "      fill: #1967D2;\n",
              "      height: 32px;\n",
              "      padding: 0 0 0 0;\n",
              "      width: 32px;\n",
              "    }\n",
              "\n",
              "    .colab-df-convert:hover {\n",
              "      background-color: #E2EBFA;\n",
              "      box-shadow: 0px 1px 2px rgba(60, 64, 67, 0.3), 0px 1px 3px 1px rgba(60, 64, 67, 0.15);\n",
              "      fill: #174EA6;\n",
              "    }\n",
              "\n",
              "    .colab-df-buttons div {\n",
              "      margin-bottom: 4px;\n",
              "    }\n",
              "\n",
              "    [theme=dark] .colab-df-convert {\n",
              "      background-color: #3B4455;\n",
              "      fill: #D2E3FC;\n",
              "    }\n",
              "\n",
              "    [theme=dark] .colab-df-convert:hover {\n",
              "      background-color: #434B5C;\n",
              "      box-shadow: 0px 1px 3px 1px rgba(0, 0, 0, 0.15);\n",
              "      filter: drop-shadow(0px 1px 2px rgba(0, 0, 0, 0.3));\n",
              "      fill: #FFFFFF;\n",
              "    }\n",
              "  </style>\n",
              "\n",
              "    <script>\n",
              "      const buttonEl =\n",
              "        document.querySelector('#df-645afda0-7624-41d6-8f8e-784b54dd981b button.colab-df-convert');\n",
              "      buttonEl.style.display =\n",
              "        google.colab.kernel.accessAllowed ? 'block' : 'none';\n",
              "\n",
              "      async function convertToInteractive(key) {\n",
              "        const element = document.querySelector('#df-645afda0-7624-41d6-8f8e-784b54dd981b');\n",
              "        const dataTable =\n",
              "          await google.colab.kernel.invokeFunction('convertToInteractive',\n",
              "                                                    [key], {});\n",
              "        if (!dataTable) return;\n",
              "\n",
              "        const docLinkHtml = 'Like what you see? Visit the ' +\n",
              "          '<a target=\"_blank\" href=https://colab.research.google.com/notebooks/data_table.ipynb>data table notebook</a>'\n",
              "          + ' to learn more about interactive tables.';\n",
              "        element.innerHTML = '';\n",
              "        dataTable['output_type'] = 'display_data';\n",
              "        await google.colab.output.renderOutput(dataTable, element);\n",
              "        const docLink = document.createElement('div');\n",
              "        docLink.innerHTML = docLinkHtml;\n",
              "        element.appendChild(docLink);\n",
              "      }\n",
              "    </script>\n",
              "  </div>\n",
              "\n",
              "\n",
              "<div id=\"df-711c2f19-745c-4af0-90d1-47eb96e7321b\">\n",
              "  <button class=\"colab-df-quickchart\" onclick=\"quickchart('df-711c2f19-745c-4af0-90d1-47eb96e7321b')\"\n",
              "            title=\"Suggest charts\"\n",
              "            style=\"display:none;\">\n",
              "\n",
              "<svg xmlns=\"http://www.w3.org/2000/svg\" height=\"24px\"viewBox=\"0 0 24 24\"\n",
              "     width=\"24px\">\n",
              "    <g>\n",
              "        <path d=\"M19 3H5c-1.1 0-2 .9-2 2v14c0 1.1.9 2 2 2h14c1.1 0 2-.9 2-2V5c0-1.1-.9-2-2-2zM9 17H7v-7h2v7zm4 0h-2V7h2v10zm4 0h-2v-4h2v4z\"/>\n",
              "    </g>\n",
              "</svg>\n",
              "  </button>\n",
              "\n",
              "<style>\n",
              "  .colab-df-quickchart {\n",
              "      --bg-color: #E8F0FE;\n",
              "      --fill-color: #1967D2;\n",
              "      --hover-bg-color: #E2EBFA;\n",
              "      --hover-fill-color: #174EA6;\n",
              "      --disabled-fill-color: #AAA;\n",
              "      --disabled-bg-color: #DDD;\n",
              "  }\n",
              "\n",
              "  [theme=dark] .colab-df-quickchart {\n",
              "      --bg-color: #3B4455;\n",
              "      --fill-color: #D2E3FC;\n",
              "      --hover-bg-color: #434B5C;\n",
              "      --hover-fill-color: #FFFFFF;\n",
              "      --disabled-bg-color: #3B4455;\n",
              "      --disabled-fill-color: #666;\n",
              "  }\n",
              "\n",
              "  .colab-df-quickchart {\n",
              "    background-color: var(--bg-color);\n",
              "    border: none;\n",
              "    border-radius: 50%;\n",
              "    cursor: pointer;\n",
              "    display: none;\n",
              "    fill: var(--fill-color);\n",
              "    height: 32px;\n",
              "    padding: 0;\n",
              "    width: 32px;\n",
              "  }\n",
              "\n",
              "  .colab-df-quickchart:hover {\n",
              "    background-color: var(--hover-bg-color);\n",
              "    box-shadow: 0 1px 2px rgba(60, 64, 67, 0.3), 0 1px 3px 1px rgba(60, 64, 67, 0.15);\n",
              "    fill: var(--button-hover-fill-color);\n",
              "  }\n",
              "\n",
              "  .colab-df-quickchart-complete:disabled,\n",
              "  .colab-df-quickchart-complete:disabled:hover {\n",
              "    background-color: var(--disabled-bg-color);\n",
              "    fill: var(--disabled-fill-color);\n",
              "    box-shadow: none;\n",
              "  }\n",
              "\n",
              "  .colab-df-spinner {\n",
              "    border: 2px solid var(--fill-color);\n",
              "    border-color: transparent;\n",
              "    border-bottom-color: var(--fill-color);\n",
              "    animation:\n",
              "      spin 1s steps(1) infinite;\n",
              "  }\n",
              "\n",
              "  @keyframes spin {\n",
              "    0% {\n",
              "      border-color: transparent;\n",
              "      border-bottom-color: var(--fill-color);\n",
              "      border-left-color: var(--fill-color);\n",
              "    }\n",
              "    20% {\n",
              "      border-color: transparent;\n",
              "      border-left-color: var(--fill-color);\n",
              "      border-top-color: var(--fill-color);\n",
              "    }\n",
              "    30% {\n",
              "      border-color: transparent;\n",
              "      border-left-color: var(--fill-color);\n",
              "      border-top-color: var(--fill-color);\n",
              "      border-right-color: var(--fill-color);\n",
              "    }\n",
              "    40% {\n",
              "      border-color: transparent;\n",
              "      border-right-color: var(--fill-color);\n",
              "      border-top-color: var(--fill-color);\n",
              "    }\n",
              "    60% {\n",
              "      border-color: transparent;\n",
              "      border-right-color: var(--fill-color);\n",
              "    }\n",
              "    80% {\n",
              "      border-color: transparent;\n",
              "      border-right-color: var(--fill-color);\n",
              "      border-bottom-color: var(--fill-color);\n",
              "    }\n",
              "    90% {\n",
              "      border-color: transparent;\n",
              "      border-bottom-color: var(--fill-color);\n",
              "    }\n",
              "  }\n",
              "</style>\n",
              "\n",
              "  <script>\n",
              "    async function quickchart(key) {\n",
              "      const quickchartButtonEl =\n",
              "        document.querySelector('#' + key + ' button');\n",
              "      quickchartButtonEl.disabled = true;  // To prevent multiple clicks.\n",
              "      quickchartButtonEl.classList.add('colab-df-spinner');\n",
              "      try {\n",
              "        const charts = await google.colab.kernel.invokeFunction(\n",
              "            'suggestCharts', [key], {});\n",
              "      } catch (error) {\n",
              "        console.error('Error during call to suggestCharts:', error);\n",
              "      }\n",
              "      quickchartButtonEl.classList.remove('colab-df-spinner');\n",
              "      quickchartButtonEl.classList.add('colab-df-quickchart-complete');\n",
              "    }\n",
              "    (() => {\n",
              "      let quickchartButtonEl =\n",
              "        document.querySelector('#df-711c2f19-745c-4af0-90d1-47eb96e7321b button');\n",
              "      quickchartButtonEl.style.display =\n",
              "        google.colab.kernel.accessAllowed ? 'block' : 'none';\n",
              "    })();\n",
              "  </script>\n",
              "</div>\n",
              "    </div>\n",
              "  </div>\n"
            ],
            "application/vnd.google.colaboratory.intrinsic+json": {
              "type": "dataframe",
              "variable_name": "df",
              "summary": "{\n  \"name\": \"df\",\n  \"rows\": 1553,\n  \"fields\": [\n    {\n      \"column\": \"CVE_ID\",\n      \"properties\": {\n        \"dtype\": \"string\",\n        \"num_unique_values\": 1553,\n        \"samples\": [\n          \"CVE-2003-1577\",\n          \"CVE-2003-0285\",\n          \"CVE-2003-0370\"\n        ],\n        \"semantic_type\": \"\",\n        \"description\": \"\"\n      }\n    },\n    {\n      \"column\": \"Description\",\n      \"properties\": {\n        \"dtype\": \"string\",\n        \"num_unique_values\": 1525,\n        \"samples\": [\n          \"Multiple buffer overflows in asf_http_request of MPlayer before 0.92 allows remote attackers to execute arbitrary code via an ASX header with a long hostname.\",\n          \"Format string vulnerability in packet-socks.c of the SOCKS dissector for Ethereal 0.8.7 through 0.9.9 allows remote attackers to execute arbitrary code via SOCKS packets containing format string specifiers.\",\n          \"Cross-site scripting (XSS) vulnerability in index.php for Zorum 3.4 and 3.5 allows remote attackers to inject arbitrary web script or HTML via the method parameter.\"\n        ],\n        \"semantic_type\": \"\",\n        \"description\": \"\"\n      }\n    },\n    {\n      \"column\": \"Published_Date\",\n      \"properties\": {\n        \"dtype\": \"object\",\n        \"num_unique_values\": 128,\n        \"samples\": [\n          \"2003-10-07T04:00Z\",\n          \"2003-08-07T04:00Z\",\n          \"2003-08-27T04:00Z\"\n        ],\n        \"semantic_type\": \"\",\n        \"description\": \"\"\n      }\n    },\n    {\n      \"column\": \"Impact_Score\",\n      \"properties\": {\n        \"dtype\": \"number\",\n        \"std\": 2.5296516907887723,\n        \"min\": 2.9,\n        \"max\": 10.0,\n        \"num_unique_values\": 8,\n        \"samples\": [\n          6.4,\n          7.8,\n          2.9\n        ],\n        \"semantic_type\": \"\",\n        \"description\": \"\"\n      }\n    },\n    {\n      \"column\": \"Severity\",\n      \"properties\": {\n        \"dtype\": \"category\",\n        \"num_unique_values\": 3,\n        \"samples\": [\n          \"MEDIUM\",\n          \"HIGH\",\n          \"LOW\"\n        ],\n        \"semantic_type\": \"\",\n        \"description\": \"\"\n      }\n    }\n  ]\n}"
            }
          },
          "metadata": {}
        }
      ]
    },
    {
      "source": [
        "# Plotting the histogram for Impact_Score\n",
        "df['Impact_Score'].plot(kind='hist', bins=20, title='Impact_Score')\n",
        "plt.gca().spines[['top', 'right']].set_visible(False)\n",
        "plt.show()\n"
      ],
      "cell_type": "code",
      "metadata": {
        "id": "na_gl5hT0ESp",
        "colab": {
          "base_uri": "https://localhost:8080/",
          "height": 452
        },
        "outputId": "c2c64da2-6526-4113-e9d1-d22ff3480982"
      },
      "execution_count": null,
      "outputs": [
        {
          "output_type": "display_data",
          "data": {
            "text/plain": [
              "<Figure size 640x480 with 1 Axes>"
            ],
            "image/png": "[encoded data removed]"
          },
          "metadata": {}
        }
      ]
    },
    {
      "cell_type": "markdown",
      "source": [
        "**Étape 3: Prétraitement des données**\n",
        "\n",
        "\n",
        "---\n",
        "Description: Nous allons nettoyer les données, gérer les valeurs manquantes et préparer les caractéristiques pour la modélisation."
      ],
      "metadata": {
        "id": "tvyKf20aw2qk"
      }
    },
    {
      "cell_type": "code",
      "source": [
        "# Gestion des valeurs manquantes\n",
        "df['Impact_Score'] = df['Impact_Score'].fillna(0)\n",
        "df['Severity'] = df['Severity'].fillna('UNKNOWN')\n",
        "\n",
        "# Transformation des dates en format datetime\n",
        "df['Published_Date'] = pd.to_datetime(df['Published_Date'])\n",
        "\n",
        "# Affichage des informations sur les données après le prétraitement\n",
        "df.info()\n"
      ],
      "metadata": {
        "colab": {
          "base_uri": "https://localhost:8080/"
        },
        "id": "RZMpE5vJwTwl",
        "outputId": "b24b5932-5371-45b0-c8ed-41ae120beed3"
      },
      "execution_count": null,
      "outputs": [
        {
          "output_type": "stream",
          "name": "stdout",
          "text": [
            "<class 'pandas.core.frame.DataFrame'>\n",
            "RangeIndex: 1553 entries, 0 to 1552\n",
            "Data columns (total 5 columns):\n",
            " #   Column          Non-Null Count  Dtype              \n",
            "---  ------          --------------  -----              \n",
            " 0   CVE_ID          1553 non-null   object             \n",
            " 1   Description     1553 non-null   object             \n",
            " 2   Published_Date  1553 non-null   datetime64[ns, UTC]\n",
            " 3   Impact_Score    1553 non-null   float64            \n",
            " 4   Severity        1553 non-null   object             \n",
            "dtypes: datetime64[ns, UTC](1), float64(1), object(3)\n",
            "memory usage: 60.8+ KB\n"
          ]
        }
      ]
    },
    {
      "cell_type": "markdown",
      "source": [
        "**Étape 4: Extraction des caractéristiques textuelles**\n",
        "\n",
        "\n",
        "---\n",
        "Description: Utilisation de la technique TF-IDF pour transformer les descriptions textuelles en vecteurs numériques."
      ],
      "metadata": {
        "id": "uAJ8V5jjw_gj"
      }
    },
    {
      "cell_type": "code",
      "source": [
        "\n",
        "# Initialisation du vecteur TF-IDF\n",
        "tfidf = TfidfVectorizer(max_features=1000)\n",
        "\n",
        "# Transformation des descriptions en vecteurs TF-IDF\n",
        "X = tfidf.fit_transform(df['Description']).toarray()\n",
        "\n",
        "# Affichage de la forme de la matrice de caractéristiques\n",
        "print(\"Forme de la matrice de caractéristiques après transformation TF-IDF : \", X.shape)\n"
      ],
      "metadata": {
        "colab": {
          "base_uri": "https://localhost:8080/"
        },
        "id": "KGcmizbUwWUq",
        "outputId": "61154ea1-d0fa-44c0-981d-d2d17d11c0eb"
      },
      "execution_count": null,
      "outputs": [
        {
          "output_type": "stream",
          "name": "stdout",
          "text": [
            "Forme de la matrice de caractéristiques après transformation TF-IDF :  (1553, 1000)\n"
          ]
        }
      ]
    },
    {
      "cell_type": "markdown",
      "source": [
        "**Étape 5: Préparation des étiquettes et division des données.**\n",
        "\n",
        "\n",
        "---\n",
        "Description: Nous allons préparer les étiquettes (scores d'impact) et diviser les données en ensembles d'entraînement et de test."
      ],
      "metadata": {
        "id": "YQlecV3SxFDP"
      }
    },
    {
      "cell_type": "code",
      "source": [
        "# Préparation des étiquettes\n",
        "y = df['Impact_Score']\n",
        "\n",
        "# Division des données en ensembles d'entraînement et de test\n",
        "X_train, X_test, y_train, y_test = train_test_split(X, y, test_size=0.2, random_state=42)\n",
        "\n",
        "# Affichage des tailles des ensembles d'entraînement et de test\n",
        "print(f\"Taille de l'ensemble d'entraînement: {X_train.shape[0]} échantillons\")\n",
        "print(f\"Taille de l'ensemble de test: {X_test.shape[0]} échantillons\")\n"
      ],
      "metadata": {
        "colab": {
          "base_uri": "https://localhost:8080/"
        },
        "id": "cAf_Or5nwZDN",
        "outputId": "3fdfd72f-2d82-4810-e0e2-75aab2ca0da0"
      },
      "execution_count": null,
      "outputs": [
        {
          "output_type": "stream",
          "name": "stdout",
          "text": [
            "Taille de l'ensemble d'entraînement: 1242 échantillons\n",
            "Taille de l'ensemble de test: 311 échantillons\n"
          ]
        }
      ]
    },
    {
      "cell_type": "markdown",
      "source": [
        "**Étape 6: Entraînement du modèle de prédiction des vulnérabilités.**\n",
        "\n",
        "\n",
        "---\n",
        "Description : Entraînement d'un modèle de machine learning spécifique pour prédire les vulnérabilités à partir des données CVE."
      ],
      "metadata": {
        "id": "3_PTfqsCxHf4"
      }
    },
    {
      "cell_type": "code",
      "source": [
        "# Importation du modèle spécifique pour la prédiction des vulnérabilités\n",
        "from sklearn.ensemble import RandomForestRegressor\n",
        "\n",
        "# Initialisation du modèle\n",
        "model = RandomForestRegressor()\n",
        "\n",
        "# Entraînement du modèle\n",
        "model.fit(X_train, y_train)\n",
        "\n",
        "# Prédiction sur l'ensemble de test\n",
        "y_pred = model.predict(X_test)\n",
        "print(\"Résultats des prédictions :\")\n",
        "print(y_pred)\n",
        "\n",
        "\n",
        "\n",
        "# Plotting the histogram for predicted impact scores\n",
        "plt.figure(figsize=(10, 6))\n",
        "plt.hist(y_pred, bins=30, color='skyblue', edgecolor='black', alpha=0.7)\n",
        "plt.title('Distribution of Predicted Impact Scores')\n",
        "plt.xlabel('Impact Score')\n",
        "plt.ylabel('Frequency')\n",
        "plt.grid(True)\n",
        "plt.show()\n",
        "\n"
      ],
      "metadata": {
        "id": "H2iBMHeHwb1H",
        "colab": {
          "base_uri": "https://localhost:8080/",
          "height": 1000
        },
        "outputId": "e0f348a6-b273-4c1c-e07d-97b642fddc02"
      },
      "execution_count": null,
      "outputs": [
        {
          "output_type": "stream",
          "name": "stdout",
          "text": [
            "Résultats des prédictions :\n",
            "[4.492      5.093      3.843      5.453      4.296      4.874\n",
            " 3.616      7.197      8.02       6.4        6.134      6.467\n",
            " 6.691      3.15       9.337      6.616      7.631      6.884\n",
            " 3.428      4.718      6.826      4.594      3.731      4.665\n",
            " 4.552      6.843      3.566      4.694      5.69       6.436\n",
            " 4.036      3.525      8.418      7.12       7.469      7.298\n",
            " 3.096      4.815      8.452      7.935      3.925      3.365\n",
            " 6.343      4.472      4.838      6.31166667 7.588      5.667\n",
            " 3.11       3.67       3.29       6.009      4.21       3.483\n",
            " 3.005      7.554      5.86       7.949      3.576      3.015\n",
            " 8.473      6.689      6.619      5.942      0.         4.336\n",
            " 7.391      6.869      6.402      8.603      3.         5.629\n",
            " 5.866      3.926      7.04       7.35958333 6.811      3.574\n",
            " 3.186      5.094      3.595      6.193      3.06       3.165\n",
            " 7.984      7.295      6.11       6.688      3.09       4.251\n",
            " 6.783      3.218      6.175      3.05       4.972      4.526\n",
            " 3.051      7.234      7.66       4.605      7.913      3.115\n",
            " 8.371      6.488      4.087      6.406      5.373      7.77\n",
            " 6.727      7.213      4.667      3.285      3.58166667 4.13083333\n",
            " 3.903      3.305      3.656      8.092      3.256      4.787\n",
            " 6.649      6.634      6.2635     7.681      6.616      4.336\n",
            " 8.777      8.818      6.319      6.835      6.167      6.839\n",
            " 9.28       4.603      5.396      6.933      9.568      3.90766667\n",
            " 3.681      7.987      5.406      8.164      3.597      6.75\n",
            " 7.229      5.725      3.751      3.746      4.842      3.632\n",
            " 8.352      4.306      4.322      0.         5.025      8.202\n",
            " 3.465      3.245      3.095      6.822      8.278      4.594\n",
            " 5.02       7.321      5.526      0.         7.667      4.254\n",
            " 9.46       4.504      6.452      4.115      4.754      7.162\n",
            " 6.681      6.979      7.749      8.38       4.398      8.957\n",
            " 8.606      7.706      3.749      7.664      7.446      6.751\n",
            " 6.365      5.815      5.907      5.317      4.764      0.192\n",
            " 4.685      8.344      6.191      6.617      3.884      5.238\n",
            " 9.08       4.821      7.804      6.004      7.398      4.175\n",
            " 5.71       6.461      6.102      4.79       9.697      5.948\n",
            " 8.297      3.426      8.273      8.331      9.028      8.138\n",
            " 6.264      3.855      5.931      8.215      7.541      6.808\n",
            " 3.434      8.617      4.294      4.546      3.07       4.919\n",
            " 3.105      7.269      3.46       0.         5.236      7.444\n",
            " 4.1395     3.495      7.452      6.484      6.516      6.366\n",
            " 6.182      3.435      6.62       8.31       9.496      3.686\n",
            " 7.922      3.875      6.069      5.275      6.212      6.365\n",
            " 3.265      8.623      3.197      5.824      4.065      6.652\n",
            " 3.316      4.115      6.377      0.         6.436      6.687\n",
            " 6.804      4.201      6.377      4.182      6.912      4.14\n",
            " 2.99       4.923      9.064      4.576      3.168      3.04\n",
            " 2.97       3.721      7.624      3.62983333 4.159      3.63\n",
            " 6.33       2.97       6.498      8.826      3.531      8.647\n",
            " 8.419      3.05       4.88       5.04       3.435      3.861\n",
            " 5.131      7.919      6.332      3.385      6.963      3.9\n",
            " 7.265      8.202      4.207      7.25       4.235      6.409\n",
            " 4.257      6.544      7.541      6.634      3.571     ]\n"
          ]
        },
        {
          "output_type": "display_data",
          "data": {
            "text/plain": [
              "<Figure size 1000x600 with 1 Axes>"
            ],
            "image/png": "[encoded data removed]"
          },
          "metadata": {}
        }
      ]
    },
    {
      "cell_type": "markdown",
      "source": [
        "Donc Les prédictions du modèle Random Forest montrent une distribution variée des scores d'impact des vulnérabilités, avec des valeurs allant de 0 à 9.7, indiquant que le modèle a capturé une large gamme de scores d'impact possibles"
      ],
      "metadata": {
        "id": "tqBi1fv4riEm"
      }
    },
    {
      "cell_type": "markdown",
      "source": [
        "Étape 7: Évaluation du modèle de prédiction des vulnérabilités.\n",
        "\n",
        "\n",
        "---\n",
        "Description : Évaluation de la performance du modèle de prédiction des vulnérabilités à l'aide de métriques appropriées."
      ],
      "metadata": {
        "id": "mKfA1AnKysUo"
      }
    },
    {
      "cell_type": "code",
      "source": [
        "# Calcul de l'erreur quadratique moyenne (MSE - Mean Squared Error)\n",
        "mse = mean_squared_error(y_test, y_pred)\n",
        "\n",
        "# Calcul de l'erreur absolue moyenne (MAE - Mean Absolute Error)\n",
        "mae = mean_absolute_error(y_test, y_pred)\n",
        "\n",
        "# Affichage des résultats\n",
        "print(f\"Erreur quadratique moyenne (MSE) : {mse}\")\n",
        "print(f\"Erreur absolue moyenne (MAE) : {mae}\")\n",
        "\n"
      ],
      "metadata": {
        "colab": {
          "base_uri": "https://localhost:8080/"
        },
        "id": "c9E5BwMByHw2",
        "outputId": "03b5b08c-e274-49d8-be15-672a26ae8a5d"
      },
      "execution_count": null,
      "outputs": [
        {
          "output_type": "stream",
          "name": "stdout",
          "text": [
            "Erreur quadratique moyenne (MSE) : 2.907483719386386\n",
            "Erreur absolue moyenne (MAE) : 1.2985495712754536\n"
          ]
        }
      ]
    },
    {
      "cell_type": "markdown",
      "source": [
        "**Évaluation des performances des modèles de prédiction des vulnérabilités**\n",
        "\n",
        "\n",
        "---\n",
        "\n",
        "Description : Cette étape consiste à évaluer les performances des différents modèles de prédiction des vulnérabilités en calculant les erreurs quadratiques moyennes (MSE) et les erreurs absolues moyennes (MAE) pour chaque modèle."
      ],
      "metadata": {
        "id": "x4jEPSd3Q2jI"
      }
    },
    {
      "cell_type": "code",
      "source": [
        "from sklearn.metrics import mean_squared_error, mean_absolute_error\n",
        "\n",
        "# Évaluation des performances de chaque modèle\n",
        "mse_rf = mean_squared_error(y_test, random_forest_predictions)\n",
        "mae_rf = mean_absolute_error(y_test, random_forest_predictions)\n",
        "\n",
        "mse_svm = mean_squared_error(y_test, svm_predictions)\n",
        "mae_svm = mean_absolute_error(y_test, svm_predictions)\n",
        "\n",
        "mse_nn = mean_squared_error(y_test, neural_network_predictions)\n",
        "mae_nn = mean_absolute_error(y_test, neural_network_predictions)\n",
        "\n",
        "mse_knn = mean_squared_error(y_test, knn_predictions)\n",
        "mae_knn = mean_absolute_error(y_test, knn_predictions)\n",
        "\n",
        "# Affichage des résultats\n",
        "print(\"Résultats de la performance des modèles :\")\n",
        "print(\"Random Forest:\")\n",
        "print(f\"MSE : {mse_rf}\")\n",
        "print(f\"MAE : {mae_rf}\")\n",
        "\n",
        "print(\"\\nSVM:\")\n",
        "print(f\"MSE : {mse_svm}\")\n",
        "print(f\"MAE : {mae_svm}\")\n",
        "\n",
        "print(\"\\nNeural Network:\")\n",
        "print(f\"MSE : {mse_nn}\")\n",
        "print(f\"MAE : {mae_nn}\")\n",
        "\n",
        "print(\"\\nk-Nearest Neighbors:\")\n",
        "print(f\"MSE : {mse_knn}\")\n",
        "print(f\"MAE : {mae_knn}\")\n"
      ],
      "metadata": {
        "colab": {
          "base_uri": "https://localhost:8080/"
        },
        "id": "NXEPySuePbBh",
        "outputId": "c7884ebb-0dec-433d-e4f2-01a010978464"
      },
      "execution_count": null,
      "outputs": [
        {
          "output_type": "stream",
          "name": "stdout",
          "text": [
            "Résultats de la performance des modèles :\n",
            "Random Forest:\n",
            "MSE : 2.844671305778848\n",
            "MAE : 1.2902009646302233\n",
            "\n",
            "SVM:\n",
            "MSE : 3.464535837321424\n",
            "MAE : 1.4226178482520249\n",
            "\n",
            "Neural Network:\n",
            "MSE : 5.337188217443885\n",
            "MAE : 1.777032794756101\n",
            "\n",
            "k-Nearest Neighbors:\n",
            "MSE : 4.294032154340836\n",
            "MAE : 1.5962700964630223\n"
          ]
        }
      ]
    },
    {
      "cell_type": "markdown",
      "source": [
        "1- Le modèle Random Forest a les meilleures performances avec les erreurs MSE et MAE les plus faibles, indiquant une précision supérieure pour prédire les scores d'impact des vulnérabilités.\n",
        "\n",
        "2- Le modèle SVM a des performances légèrement inférieures à celles de Random Forest, avec des erreurs MSE et MAE plus élevées, indiquant une précision moindre pour les prédictions de scores d'impact.\n",
        "\n",
        "3- Le modèle k-NN a des performances intermédiaires, avec des erreurs supérieures à celles de Random Forest et SVM mais inférieures à celles du Neural Network, montrant une capacité de prédiction modérée."
      ],
      "metadata": {
        "id": "TkCw4waMqnAm"
      }
    }
  ],
  "metadata": {
    "colab": {
      "provenance": []
    },
    "kernelspec": {
      "display_name": "Python 3",
      "name": "python3"
    },
    "language_info": {
      "name": "python"
    }
  },
  "nbformat": 4,
  "nbformat_minor": 0
}